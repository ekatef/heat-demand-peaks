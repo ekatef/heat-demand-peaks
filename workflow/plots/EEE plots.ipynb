{
 "cells": [
  {
   "cell_type": "markdown",
   "id": "9157411d",
   "metadata": {},
   "source": [
    "# 0. Importing libraries"
   ]
  },
  {
   "cell_type": "code",
   "execution_count": null,
   "id": "1f27c803",
   "metadata": {},
   "outputs": [],
   "source": [
    "import os\n",
    "import sys\n",
    "sys.path.append(\"../pypsa-eur\")\n",
    "import pypsa\n",
    "os.chdir(\"C:\\\\Users\\\\Yerbol\\\\Documents\\\\Python\\\\PyPSA\\\\Katia-repo\\\\pypsa-eur\")\n",
    "import pypsa\n",
    "import matplotlib.pyplot as plt\n",
    "import matplotlib.gridspec as gridspec\n",
    "import numpy as np\n",
    "import pandas as pd\n",
    "import cartopy.crs as ccrs\n",
    "import logging\n",
    "import colors as c\n",
    "import warnings\n",
    "\n",
    "warnings.filterwarnings(\"ignore\")\n",
    "logger = logging.getLogger(__name__)\n",
    "plt.style.use(\"ggplot\")"
   ]
  },
  {
   "cell_type": "markdown",
   "id": "f0fb7b33",
   "metadata": {},
   "source": [
    "# 1. Define functions"
   ]
  },
  {
   "cell_type": "code",
   "execution_count": null,
   "id": "71a2347b",
   "metadata": {},
   "outputs": [],
   "source": [
    "# renaming function\n",
    "def rename_techs(label):\n",
    "    prefix_to_remove = [\n",
    "        \"residential \",\n",
    "        \"services \",\n",
    "        \"urban \",\n",
    "        \"rural \",\n",
    "        \"central \",\n",
    "        \"decentral \",\n",
    "    ]\n",
    "\n",
    "    rename_if_contains = [\n",
    "        \"solid biomass CHP\",\n",
    "        \"gas CHP\",\n",
    "        \"gas boiler\",\n",
    "        \"biogas\",\n",
    "        \"solar thermal\",\n",
    "        \"air heat pump\",\n",
    "        \"ground heat pump\",\n",
    "        \"resistive heater\",\n",
    "        \"Fischer-Tropsch\",\n",
    "    ]\n",
    "\n",
    "    rename_if_contains_dict = {\n",
    "        \"water tanks\": \"TES\",\n",
    "        \"retrofitting\": \"building retrofitting\",\n",
    "        # \"H2 Electrolysis\": \"hydrogen storage\",\n",
    "        # \"H2 Fuel Cell\": \"hydrogen storage\",\n",
    "        # \"H2 pipeline\": \"hydrogen storage\",\n",
    "        \"battery\": \"battery storage\",\n",
    "        # \"CC\": \"CC\"\n",
    "    }\n",
    "\n",
    "    rename = {\n",
    "        \"Solar\": \"solar PV\",\n",
    "        \"Sabatier\": \"methanation\",\n",
    "        \"helmeth\" : \"methanation\",\n",
    "        \"Offshore Wind (AC)\": \"offshore wind\",\n",
    "        \"Offshore Wind (DC)\": \"offshore wind\",\n",
    "        \"Onshore Wind\": \"onshore wind\",\n",
    "        \"Run of River\": \"hydroelectricity\",\n",
    "        \"Reservoir & Dam\": \"hydroelectricity\",\n",
    "        \"Pumped Hydro Storage\": \"hydroelectricity\",\n",
    "        \"NH3\": \"ammonia\",\n",
    "        \"co2 Store\": \"DAC\",\n",
    "        \"co2 stored\": \"CO2 sequestration\",\n",
    "        \"AC\": \"transmission lines\",\n",
    "        \"DC\": \"transmission lines\",\n",
    "        \"B2B\": \"transmission lines\",\n",
    "        \"solid biomass for industry\": \"solid biomass\",\n",
    "        \"solid biomass for industry CC\": \"solid biomass\",\n",
    "        \"electricity distribution grid\": \"distribution lines\",\n",
    "        \"Open-Cycle Gas\":\"OCGT\",\n",
    "        \"gas\": \"gas storage\",\n",
    "        'gas pipeline new': 'gas pipeline',\n",
    "        \"gas for industry CC\": \"gas for industry\",\n",
    "        \"SMR CC\": \"SMR\",\n",
    "        \"process emissions CC\": \"process emissions\",\n",
    "        \"Battery Storage\": \"battery storage\",\n",
    "        'H2 Store': \"H2 storage\",\n",
    "        \n",
    "    }\n",
    "\n",
    "    for ptr in prefix_to_remove:\n",
    "        if label[: len(ptr)] == ptr:\n",
    "            label = label[len(ptr) :]\n",
    "\n",
    "    for rif in rename_if_contains:\n",
    "        if rif in label:\n",
    "            label = rif\n",
    "\n",
    "    for old, new in rename_if_contains_dict.items():\n",
    "        if old in label:\n",
    "            label = new\n",
    "\n",
    "    for old, new in rename.items():\n",
    "        if old == label:\n",
    "            label = new\n",
    "    return label\n",
    "\n",
    "\n",
    "preferred_order = pd.Index(\n",
    "    [\n",
    "        \"solid biomass\",\n",
    "        \"biogas\",\n",
    "        \"gas for industry\",\n",
    "        \"methanol\",\n",
    "        \"oil\",\n",
    "        \n",
    "        \"transmission lines\",\n",
    "        \"distribution lines\",\n",
    "        \"gas pipeline\",\n",
    "        \"H2 pipeline\",\n",
    "        \n",
    "        \"H2 Electrolysis\",\n",
    "        \"H2 Fuel Cell\",\n",
    "        \"DAC\",\n",
    "        \"Fischer-Tropsch\",\n",
    "        \"methanation\",\n",
    "        \"BEV charger\",\n",
    "        \"V2G\",\n",
    "        \"SMR\",\n",
    "        \"methanolisation\",\n",
    "        \n",
    "        \"battery storage\",\n",
    "        \"gas storage\",\n",
    "        \"H2 storage\",\n",
    "        \"TES\",\n",
    "        \n",
    "        \"hydroelectricity\",\n",
    "        \"OCGT\",\n",
    "        \"onshore wind\",\n",
    "        \"offshore wind\",\n",
    "        \"solar PV\",\n",
    "        \"solar thermal\",\n",
    "        \"solar rooftop\",\n",
    "\n",
    "        \"gas CHP\",\n",
    "        \"solid biomass CHP\",\n",
    "        \"resistive heater\",\n",
    "        \"air heat pump\",\n",
    "        \"ground heat pump\",\n",
    "        \"gas boiler\",\n",
    "        \"biomass boiler\",\n",
    "        \"building retrofitting\",\n",
    "        \n",
    "        \"co2\",\n",
    "        \"CO2 sequestration\",\n",
    "        \"process emissions\"\n",
    "     ]\n",
    ")"
   ]
  },
  {
   "cell_type": "code",
   "execution_count": null,
   "id": "c1b921fb",
   "metadata": {},
   "outputs": [],
   "source": [
    "# renaming function\n",
    "def rename_techs2(label):\n",
    "    prefix_to_remove = [\n",
    "        \"residential \",\n",
    "        \"services \",\n",
    "        \"urban \",\n",
    "        \"rural \",\n",
    "        \"central \",\n",
    "        \"decentral \",\n",
    "    ]\n",
    "\n",
    "    rename_if_contains = [\n",
    "        \"solid biomass CHP\",\n",
    "        \"gas CHP\",\n",
    "        \"gas boiler\",\n",
    "        \"biogas\",\n",
    "        \"solar thermal\",\n",
    "        \"air heat pump\",\n",
    "        \"ground heat pump\",\n",
    "        \"resistive heater\",\n",
    "        \"Fischer-Tropsch\",\n",
    "    ]\n",
    "\n",
    "    rename_if_contains_dict = {\n",
    "        \"water tanks\": \"water tanks discharger\",\n",
    "        \"retrofitting\": \"building retrofitting\",\n",
    "        # \"H2 Electrolysis\": \"hydrogen storage\",\n",
    "        # \"H2 Fuel Cell\": \"hydrogen storage\",\n",
    "        # \"H2 pipeline\": \"hydrogen storage\",\n",
    "        \"battery\": \"battery storage\",\n",
    "        # \"CC\": \"CC\"\n",
    "    }\n",
    "\n",
    "    rename = {\n",
    "        \"Solar\": \"solar PV\",\n",
    "        \"Sabatier\": \"methanation\",\n",
    "        \"helmeth\" : \"methanation\",\n",
    "        \"Offshore Wind (AC)\": \"offshore wind\",\n",
    "        \"Offshore Wind (DC)\": \"offshore wind\",\n",
    "        \"Onshore Wind\": \"onshore wind\",\n",
    "        \"Run of River\": \"hydroelectricity\",\n",
    "        \"Reservoir & Dam\": \"hydroelectricity\",\n",
    "        \"Pumped Hydro Storage\": \"hydroelectricity\",\n",
    "        \"NH3\": \"ammonia\",\n",
    "        \"co2 Store\": \"DAC\",\n",
    "        \"co2 stored\": \"CO2 sequestration\",\n",
    "        \"AC\": \"transmission lines\",\n",
    "        \"DC\": \"transmission lines\",\n",
    "        \"B2B\": \"transmission lines\",\n",
    "        \"solid biomass for industry\": \"solid biomass\",\n",
    "        \"solid biomass for industry CC\": \"solid biomass\",\n",
    "        \"electricity distribution grid\": \"distribution lines\",\n",
    "        \"Open-Cycle Gas\":\"OCGT\",\n",
    "        \"gas\": \"gas storage\",\n",
    "        'gas pipeline new': 'gas pipeline',\n",
    "        \"gas for industry CC\": \"gas for industry\",\n",
    "        \"SMR CC\": \"SMR\",\n",
    "        \"process emissions CC\": \"process emissions\",\n",
    "        \"Battery Storage\": \"battery storage\",\n",
    "        'H2 Store': \"H2 storage\",\n",
    "        \n",
    "    }\n",
    "\n",
    "    for ptr in prefix_to_remove:\n",
    "        if label[: len(ptr)] == ptr:\n",
    "            label = label[len(ptr) :]\n",
    "\n",
    "    for rif in rename_if_contains:\n",
    "        if rif in label:\n",
    "            label = rif\n",
    "\n",
    "    for old, new in rename_if_contains_dict.items():\n",
    "        if old in label:\n",
    "            label = new\n",
    "\n",
    "    for old, new in rename.items():\n",
    "        if old == label:\n",
    "            label = new\n",
    "    return label\n",
    "\n",
    "\n",
    "preferred_order = pd.Index(\n",
    "    [\n",
    "        \"solid biomass\",\n",
    "        \"biogas\",\n",
    "        \"gas for industry\",\n",
    "        \"methanol\",\n",
    "        \"oil\",\n",
    "        \n",
    "        \"transmission lines\",\n",
    "        \"distribution lines\",\n",
    "        \"gas pipeline\",\n",
    "        \"H2 pipeline\",\n",
    "        \n",
    "        \"H2 Electrolysis\",\n",
    "        \"H2 Fuel Cell\",\n",
    "        \"DAC\",\n",
    "        \"Fischer-Tropsch\",\n",
    "        \"methanation\",\n",
    "        \"BEV charger\",\n",
    "        \"V2G\",\n",
    "        \"SMR\",\n",
    "        \"methanolisation\",\n",
    "        \n",
    "        \"battery storage\",\n",
    "        \"gas storage\",\n",
    "        \"H2 storage\",\n",
    "        \"water tanks discharger\",\n",
    "        \n",
    "        \"hydroelectricity\",\n",
    "        \"OCGT\",\n",
    "        \"onshore wind\",\n",
    "        \"offshore wind\",\n",
    "        \"solar PV\",\n",
    "        \"solar thermal\",\n",
    "        \"solar rooftop\",\n",
    "        \n",
    "        \"building retrofitting\",\n",
    "        \"solid biomass CHP\",\n",
    "        \"gas CHP\",\n",
    "        \"biomass boiler\",\n",
    "        \"gas boiler\",\n",
    "        \"resistive heater\",\n",
    "        \"air heat pump\",\n",
    "        \"ground heat pump\",\n",
    "        \n",
    "        \"co2\",\n",
    "        \"CO2 sequestration\",\n",
    "        \"process emissions\"\n",
    "     ]\n",
    ")"
   ]
  },
  {
   "cell_type": "markdown",
   "id": "aa813cc5",
   "metadata": {},
   "source": [
    "# 1. Loading the networks"
   ]
  },
  {
   "cell_type": "code",
   "execution_count": null,
   "id": "12682475",
   "metadata": {},
   "outputs": [],
   "source": [
    "FILE = \"elec_s_48_lcopt__CO2L0-24H-T-H-B-I_2050.nc\"\n",
    "DIR = \"results/rigid4/postnetworks\"\n",
    "n_rigid = pypsa.Network(os.path.join(DIR, FILE))"
   ]
  },
  {
   "cell_type": "code",
   "execution_count": null,
   "id": "5f1eec56",
   "metadata": {},
   "outputs": [],
   "source": [
    "FILE = \"elec_s_48_lcopt__CO2L0-24H-T-H-B-I_2050.nc\"\n",
    "DIR = \"results/flexible/postnetworks\"\n",
    "n_flex = pypsa.Network(os.path.join(DIR, FILE))"
   ]
  },
  {
   "cell_type": "code",
   "execution_count": null,
   "id": "9269fa96",
   "metadata": {},
   "outputs": [],
   "source": [
    "FILE = \"elec_s_48_lcopt__CO2L0-24H-T-H-B-I_2050.nc\"\n",
    "DIR = \"results/igas_tes/postnetworks\"\n",
    "n_igas_tes = pypsa.Network(os.path.join(DIR, FILE))"
   ]
  },
  {
   "cell_type": "code",
   "execution_count": null,
   "id": "081237ef",
   "metadata": {},
   "outputs": [],
   "source": [
    "network = {\"rigid\":n_rigid, \"igas+tes\":n_igas_tes, \"flexible\":n_flex}"
   ]
  },
  {
   "cell_type": "markdown",
   "id": "ef1325d0",
   "metadata": {},
   "source": [
    "# 2. Total System Cost estimation (Fig. 5)"
   ]
  },
  {
   "cell_type": "markdown",
   "id": "9743056c",
   "metadata": {},
   "source": [
    "## 2A. Cost estimation"
   ]
  },
  {
   "cell_type": "code",
   "execution_count": null,
   "id": "bdfb5473",
   "metadata": {},
   "outputs": [],
   "source": [
    "costs_rigid = n_rigid.statistics()[[\"Capital Expenditure\", \"Operational Expenditure\"]].dropna()\n",
    "full_costs_rigid = costs_rigid.sum(axis=1).droplevel(0).to_frame()\n",
    "full_costs_rigid.columns = [\"rigid\"]"
   ]
  },
  {
   "cell_type": "code",
   "execution_count": null,
   "id": "65daca4a",
   "metadata": {},
   "outputs": [],
   "source": [
    "costs_flex = n_flex.statistics()[[\"Capital Expenditure\", \"Operational Expenditure\"]].dropna()\n",
    "full_costs_flex = costs_flex.sum(axis=1).droplevel(0).to_frame()\n",
    "full_costs_flex.columns = [\"flexible\"]"
   ]
  },
  {
   "cell_type": "code",
   "execution_count": null,
   "id": "6edf4e82",
   "metadata": {},
   "outputs": [],
   "source": [
    "costs_igas_tes = n_igas_tes.statistics()[[\"Capital Expenditure\", \"Operational Expenditure\"]].dropna()\n",
    "full_costs_igas_tes = costs_igas_tes.sum(axis=1).droplevel(0).to_frame()\n",
    "full_costs_igas_tes.columns = [\"igas+tes\"]"
   ]
  },
  {
   "cell_type": "code",
   "execution_count": null,
   "id": "8084783b",
   "metadata": {},
   "outputs": [],
   "source": [
    "cost_df = full_costs_flex.join(full_costs_igas_tes).join(full_costs_rigid).fillna(0)\n",
    "cost_df"
   ]
  },
  {
   "cell_type": "markdown",
   "id": "6af1ef6d",
   "metadata": {},
   "source": [
    "## 2B. Plot "
   ]
  },
  {
   "cell_type": "code",
   "execution_count": null,
   "id": "daacc443",
   "metadata": {},
   "outputs": [],
   "source": [
    "def plot_costs(cost_df):\n",
    "    df = cost_df.groupby(cost_df.index).sum()\n",
    "\n",
    "    # convert to billions\n",
    "    df = df / 1e9\n",
    "    df = df.groupby(df.index.map(rename_techs)).sum()\n",
    "\n",
    "    costs_threshold = 1\n",
    "    to_drop = df.index[df.max(axis=1) < costs_threshold]  #df <\n",
    "\n",
    "    logger.info(\n",
    "        f\"Dropping technology with costs below {costs_threshold} EUR billion per year\"\n",
    "    )\n",
    "    logger.debug(df.loc[to_drop])\n",
    "\n",
    "    df = df.drop(to_drop)\n",
    "\n",
    "    logger.info(f\"Total system cost of {round(df.sum())} EUR billion per year\")\n",
    "\n",
    "    new_index = preferred_order.intersection(df.index).append(\n",
    "        df.index.difference(preferred_order)\n",
    "    )\n",
    "\n",
    "    new_columns = df.sum().sort_values().index  \n",
    "\n",
    "\n",
    "    fig, ax = plt.subplots(figsize=(6, 8))\n",
    "\n",
    "    df.loc[new_index].T.plot(\n",
    "        kind=\"bar\",\n",
    "        ax=ax,\n",
    "        stacked=True,\n",
    "        color=[c.tech_colors[i] for i in new_index],\n",
    "    )\n",
    "\n",
    "    handles, labels = ax.get_legend_handles_labels()\n",
    "\n",
    "    handles.reverse()\n",
    "    labels.reverse()\n",
    "\n",
    "    costs_max = 1000\n",
    "    ax.set_ylim([0, costs_max])\n",
    "    plt.xticks(rotation=0, fontsize=12)\n",
    "\n",
    "    ax.set_ylabel(\"System Cost [EUR billion per year]\")\n",
    "\n",
    "    ax.set_xlabel(\"\")\n",
    "\n",
    "    ax.grid(axis=\"x\")\n",
    "\n",
    "    ax.legend(\n",
    "        handles, labels, ncol=1, loc=\"upper left\", bbox_to_anchor=[1, 1], frameon=False\n",
    "    )\n",
    "    \n",
    "    ax.set_facecolor('white')\n",
    "    ax.spines['left'].set_color('black')\n",
    "    ax.spines['bottom'].set_color('black')\n",
    "    ax.grid(axis='y', linestyle='--', linewidth=0.5, color='gray')\n",
    "    \n",
    "    \n",
    "plot_costs(cost_df)"
   ]
  },
  {
   "cell_type": "markdown",
   "id": "f70ad766",
   "metadata": {},
   "source": [
    "# 3. Installed peak capacituies (Fig. 6)"
   ]
  },
  {
   "cell_type": "markdown",
   "id": "b999e9ed",
   "metadata": {},
   "source": [
    "## 3A. Calculation"
   ]
  },
  {
   "cell_type": "code",
   "execution_count": null,
   "id": "d95f7926",
   "metadata": {},
   "outputs": [],
   "source": [
    "common_rural_techs = [\"solar thermal\", \"ground heat pump\", \"resistive heater\", \n",
    "                      \"gas boiler\", \"biomass boiler\", \"water tanks discharger\"]\n",
    "common_urban_techs = [\"solar thermal\", \"air heat pump\", \"resistive heater\", \n",
    "                      \"gas boiler\", \"biomass boiler\", \"water tanks discharger\"]\n",
    "urban_central_techs = [\"solar thermal\", \"air heat pump\", \"resistive heater\", \n",
    "                       \"gas boiler\", \"gas CHP\", \"gas CHP CC\", \n",
    "                       \"solid biomass CHP\",\"solid biomass CHP CC\", \"water tanks discharger\"]"
   ]
  },
  {
   "cell_type": "code",
   "execution_count": null,
   "id": "e210a6ab",
   "metadata": {},
   "outputs": [],
   "source": [
    "techs = {\"residential rural\":[\"residential rural \"+ x for x in common_rural_techs],\n",
    "         \"services rural\":[\"services rural \"+ x for x in common_rural_techs],\n",
    "         \"residential urban decentral\":[\"residential urban decentral \"+ x for x in common_urban_techs],\n",
    "         \"services urban decentral\":[\"services urban decentral \"+ x for x in common_urban_techs],\n",
    "         \"urban central\":[\"urban central \"+x for x in urban_central_techs]+[\"H2 Fuel Cell\", \"Fischer-Tropsch\"]\n",
    "        }"
   ]
  },
  {
   "cell_type": "code",
   "execution_count": null,
   "id": "9f095265",
   "metadata": {
    "scrolled": true
   },
   "outputs": [],
   "source": [
    "techs"
   ]
  },
  {
   "cell_type": "code",
   "execution_count": null,
   "id": "a54e558c",
   "metadata": {},
   "outputs": [],
   "source": [
    "cap_full = pd.DataFrame(columns=[\"rigid\", \"tes\", \"igas\", \"igas+tes\", \"retro\", \"retro+tes\", \"retro+igas\", \"flexible\"])\n",
    "gen_full = pd.DataFrame(columns=[\"rigid\", \"tes\", \"igas\", \"igas+tes\", \"retro\", \"retro+tes\", \"retro+igas\", \"flexible\"])\n",
    "cap_full"
   ]
  },
  {
   "cell_type": "code",
   "execution_count": null,
   "id": "ad2f76da",
   "metadata": {},
   "outputs": [],
   "source": [
    "# Calculation of installed capacities and generation\n",
    "for name, n in network.items():\n",
    "    print(\"Case: \", name)\n",
    "    for r in techs:\n",
    "        for i in techs[r]:\n",
    "            gens_cap = n.generators.filter(like=i, axis=0).p_nom_opt\n",
    "            links_cap = n.links.filter(like=i, axis=0).p_nom_opt\n",
    "            if not gens_cap.empty:\n",
    "                cap_full.loc[i, name] = gens_cap.sum()\n",
    "            if not links_cap.empty:\n",
    "                cap_full.loc[i, name] = links_cap.sum()\n",
    "                \n",
    "            gens_gen = n.generators_t.p.filter(like=i, axis=1).multiply(n_rigid.snapshot_weightings.generators,axis=0)\n",
    "            if \"CHP\" in i or \"Fuel Cell\" in i:\n",
    "                links_gen = -n.links_t.p2.filter(like=i, axis=1).multiply(n_rigid.snapshot_weightings.stores,axis=0)\n",
    "            elif \"Fischer-Tropsch\" in i:\n",
    "                links_gen = -n.links_t.p3.filter(like=i, axis=1).multiply(n_rigid.snapshot_weightings.stores,axis=0)\n",
    "            else:\n",
    "                links_gen = -n.links_t.p1.filter(like=i, axis=1).multiply(n_rigid.snapshot_weightings.stores,axis=0)  # for all links excep Fischer-Tropsch, H2 Fuel Cell, and CHPs\n",
    "            # gas CHP bus2 \n",
    "            if not gens_gen.empty:\n",
    "                gen_full.loc[i, name] = gens_gen.sum().sum()\n",
    "            if not links_gen.empty:\n",
    "                gen_full.loc[i, name] = links_gen.sum().sum()\n",
    "print(cap_full)\n",
    "print(gen_full)"
   ]
  },
  {
   "cell_type": "markdown",
   "id": "31fe4363",
   "metadata": {},
   "source": [
    "## 3B. Plot"
   ]
  },
  {
   "cell_type": "code",
   "execution_count": null,
   "id": "38d0ac7f",
   "metadata": {},
   "outputs": [],
   "source": [
    "fig, axs = plt.subplots(2, 3, figsize=(12, 6))\n",
    "plt.subplots_adjust(wspace=0.2, hspace=0.6)\n",
    "zones = {\"rural\":\"rural\", \"urban individual\":\"urban decentral\", \"district heating\":\"urban central\"}\n",
    "k = 0\n",
    "for nice_name, tech_name in zones.items():\n",
    "    cur_zones = [x for x in techs.keys() if tech_name in x]  # eg. residential rural, services rural\n",
    "    list_tech = [techs[x] for x in cur_zones]  # list of technology lists\n",
    "    cur_techs = [t for sublist in list_tech for t in sublist]  # list of technologies\n",
    "    \n",
    "    cf = cap_full.loc[cur_techs,:] / 1e3\n",
    "    cf = cf.groupby(cf.index.map(rename_techs2)).sum()\n",
    "    logger.info(f\"Total installed capacity of {cf.sum().astype(int).values} GW\")\n",
    "    \n",
    "    gf = gen_full.loc[cur_techs, :] / 1e6\n",
    "    gf = gf.groupby(gf.index.map(rename_techs2)).sum()\n",
    "    logger.info(f\"Total Generation of {gf.sum().astype(int).values} TWh\")\n",
    "    \n",
    "    \n",
    "    new_index = preferred_order.intersection(cf.index).append(\n",
    "        cf.index.difference(preferred_order)\n",
    "    )\n",
    "    \n",
    "    cf.loc[new_index].T.plot(\n",
    "        kind=\"bar\",\n",
    "        ax=axs[0,k],\n",
    "        stacked=True,\n",
    "        color=[c.tech_colors[i] for i in new_index],\n",
    "        legend=False,\n",
    "        title = nice_name\n",
    "    )\n",
    "    gf.loc[new_index].T.plot(\n",
    "        kind=\"bar\",\n",
    "        ax=axs[1,k],\n",
    "        stacked=True,\n",
    "        color=[c.tech_colors[i] for i in new_index],\n",
    "        legend=False,\n",
    "        title = nice_name\n",
    "    )\n",
    "    \n",
    "    axs[0,k].set_facecolor('white')\n",
    "    axs[0,k].spines['left'].set_color('black')\n",
    "    axs[0,k].spines['bottom'].set_color('black')\n",
    "    axs[0,k].grid(axis='y', linestyle='--', linewidth=0.5, color='gray')\n",
    "    axs[1,k].set_facecolor('white')\n",
    "    axs[1,k].spines['left'].set_color('black')\n",
    "    axs[1,k].spines['bottom'].set_color('black')\n",
    "    axs[1,k].grid(axis='y', linestyle='--', linewidth=0.5, color='gray')\n",
    "    k += 1\n",
    "\n",
    "\n",
    "handles1, labels1 = axs[0,0].get_legend_handles_labels()\n",
    "handles2, labels2 = axs[0,2].get_legend_handles_labels()\n",
    "\n",
    "handles = handles1[2:3] + handles2 + handles1[-1:]\n",
    "labels = labels1[2:3] + labels2 + labels1[-1:]\n",
    "\n",
    "handles.reverse()\n",
    "labels.reverse()\n",
    "\n",
    "axs[0,2].legend(\n",
    "    handles, labels, ncol=1, loc=\"upper left\", bbox_to_anchor=[1, 1], frameon=False\n",
    ")\n",
    "axs[0, 0].set_ylabel(\"capacity [GW]\")\n",
    "axs[1, 0].set_ylabel(\"generation [TWh]\")\n"
   ]
  },
  {
   "cell_type": "markdown",
   "id": "d08616ae",
   "metadata": {},
   "source": [
    "# 4.Heat supply profile (Fig. 7) "
   ]
  },
  {
   "cell_type": "markdown",
   "id": "cb6e7050",
   "metadata": {},
   "source": [
    "## 4A. Estimation and plot"
   ]
  },
  {
   "cell_type": "code",
   "execution_count": null,
   "id": "e10af8bf",
   "metadata": {},
   "outputs": [],
   "source": [
    "import matplotlib.ticker as ticker\n",
    "import matplotlib.patches as mpatches\n",
    "import matplotlib.dates as mdates"
   ]
  },
  {
   "cell_type": "code",
   "execution_count": null,
   "id": "4756d033",
   "metadata": {},
   "outputs": [],
   "source": [
    "first_date = \"2013-01-20\"\n",
    "second_date = \"2013-01-27\"\n",
    "bus = \"FR1 1\""
   ]
  },
  {
   "cell_type": "code",
   "execution_count": null,
   "id": "aef65771",
   "metadata": {
    "scrolled": true
   },
   "outputs": [],
   "source": [
    "techs"
   ]
  },
  {
   "cell_type": "code",
   "execution_count": null,
   "id": "95a14232",
   "metadata": {},
   "outputs": [],
   "source": [
    "network_small = {\"rigid\":n_rigid, \"igas+tes\":n_igas_tes, \"flexible\":n_flex}\n",
    "fig, axs = plt.subplots(5, 3, figsize=(12, 6))\n",
    "i = 0\n",
    "\n",
    "for name, n in network_small.items():\n",
    "    print(\"Case: \", name)\n",
    "    j = 0\n",
    "    for r in techs:\n",
    "        current_technologies = techs[r]\n",
    "        \n",
    "        time = n.generators_t.p.multiply(n.snapshot_weightings.generators, \n",
    "                                              axis=0).loc[first_date:second_date].index\n",
    "        \n",
    "        solar_gen = pd.Series(index=time).fillna(0)\n",
    "        fischer_gen = pd.Series(index=time).fillna(0)\n",
    "        gas_CHP_gen = pd.Series(index=time).fillna(0)\n",
    "        biomass_CHP_gen = pd.Series(index=time).fillna(0)\n",
    "        fuel_cell_gen = pd.Series(index=time).fillna(0)\n",
    "        ground_heat_gen = pd.Series(index=time).fillna(0)\n",
    "        air_heat_gen = pd.Series(index=time).fillna(0)\n",
    "        res_heater_gen = pd.Series(index=time).fillna(0)\n",
    "        gas_boiler_gen = pd.Series(index=time).fillna(0)\n",
    "        biomass_boiler_gen = pd.Series(index=time).fillna(0)\n",
    "        water_dischar_gen = pd.Series(index=time).fillna(0)\n",
    "        \n",
    "        \n",
    "#         idx_gen = n.generators.query(\"carrier in @curent_technologies\").filter(like=bus, axis=0).index\n",
    "#         idx_link = n.links.query(\"carrier in @curent_technologies\").filter(like=bus, axis=0).index\n",
    "        \n",
    "        \n",
    "    \n",
    "        # generation of solar thermal collectors\n",
    "        solar_gen = n.generators_t.p.multiply(n.snapshot_weightings.generators, \n",
    "                                              axis=0).loc[first_date:second_date].filter(like=bus).filter(like=\"solar thermal\").filter(like=r).squeeze().fillna(0)\n",
    "        if solar_gen.empty:\n",
    "            solar_gen = pd.Series(index=time).fillna(0)\n",
    "            \n",
    "        if r == \"urban central\":\n",
    "            # generation of Fischer-Tropsch\n",
    "            fischer_gen = -n.links_t.p3.multiply(n.snapshot_weightings.stores, \n",
    "                                                 axis=0).loc[first_date:second_date].filter(like=bus).filter(like=\"Fischer\").squeeze().fillna(0)\n",
    "            if fischer_gen.empty:\n",
    "                fischer_gen = pd.Series(index=time).fillna(0)\n",
    "            \n",
    "            # generation of gas CHP\n",
    "            gas_CHP_gen = -n.links_t.p2.multiply(n.snapshot_weightings.stores,\n",
    "                                                 axis=0).loc[first_date:second_date].filter(like=bus).filter(like=\"gas CHP\").sum(axis=1).squeeze().fillna(0)\n",
    "            if gas_CHP_gen.empty:\n",
    "                gas_CHP_gen = pd.Series(index=time).fillna(0)\n",
    "                \n",
    "            # generation of solid biomass CHP\n",
    "            biomass_CHP_gen = -n.links_t.p2.multiply(n.snapshot_weightings.stores, \n",
    "                                                     axis=0).loc[first_date:second_date].filter(like=bus).filter(like=\"biomass CHP\").sum(axis=1).squeeze().fillna(0)\n",
    "            if biomass_CHP_gen.empty:\n",
    "                biomass_CHP_gen = pd.Series(index=time).fillna(0)\n",
    "                \n",
    "            # generation of Fuel Cell\n",
    "            fuel_cell_gen = -n.links_t.p2.multiply(n.snapshot_weightings.stores,\n",
    "                                                   axis=0).loc[first_date:second_date].filter(like=bus).filter(like=\"Fuel Cell\").squeeze().fillna(0)\n",
    "            if fuel_cell_gen.empty:\n",
    "                fuel_cell_gen = pd.Series(index=time).fillna(0)\n",
    "        \n",
    "        # generation of ground heat pump\n",
    "        ground_heat_gen = -n.links_t.p1.multiply(n.snapshot_weightings.stores,\n",
    "                                                 axis=0).loc[first_date:second_date].filter(like=bus).filter(like=\"ground heat pump\").filter(like=r).squeeze()\n",
    "        if ground_heat_gen.empty:\n",
    "            ground_heat_gen = pd.Series(index=time).fillna(0)\n",
    "        \n",
    "        # generation of air heat pump\n",
    "        air_heat_gen = -n.links_t.p1.multiply(n.snapshot_weightings.stores,\n",
    "                                              axis=0).loc[first_date:second_date].filter(like=bus).filter(like=\"air heat pump\").filter(like=r).squeeze()\n",
    "        if air_heat_gen.empty:\n",
    "            air_heat_gen = pd.Series(index=time).fillna(0)\n",
    "        \n",
    "        # generation of resistive heater\n",
    "        res_heater_gen = -n.links_t.p1.multiply(n.snapshot_weightings.stores,\n",
    "                                                axis=0).loc[first_date:second_date].filter(like=bus).filter(like=\"resistive heater\").filter(like=r).squeeze().fillna(0)\n",
    "        if res_heater_gen.empty:\n",
    "            res_heater_gen = pd.Series(index=time).fillna(0)\n",
    "        \n",
    "        # generation of gas boiler\n",
    "        gas_boiler_gen = -n.links_t.p1.multiply(n.snapshot_weightings.stores,\n",
    "                                                axis=0).loc[first_date:second_date].filter(like=bus).filter(like=\"gas boiler\").filter(like=r).squeeze().fillna(0)\n",
    "        if gas_boiler_gen.empty:\n",
    "            gas_boiler_gen = pd.Series(index=time).fillna(0)\n",
    "\n",
    "        # generation of biomass boiler\n",
    "        biomass_boiler_gen = -n.links_t.p1.multiply(n.snapshot_weightings.stores,\n",
    "                                                    axis=0).loc[first_date:second_date].filter(like=bus).filter(like=\"biomass boiler\").filter(like=r).squeeze().fillna(0)\n",
    "        if biomass_boiler_gen.empty:\n",
    "            biomass_boiler_gen = pd.Series(index=time).fillna(0)\n",
    "\n",
    "        # generation of water tanks discharger\n",
    "        water_dischar_gen = -n.links_t.p1.multiply(n.snapshot_weightings.stores,\n",
    "                                                   axis=0).loc[first_date:second_date].filter(like=bus).filter(like=\"water tanks discharger\").filter(like=r).squeeze().fillna(0)\n",
    "        if water_dischar_gen.empty:\n",
    "            water_dischar_gen = pd.Series(index=time).fillna(0)\n",
    "            \n",
    "        # storage of water tanks charger\n",
    "        water_char_store = n.links_t.p1.multiply(n.snapshot_weightings.stores,\n",
    "                                                 axis=0).loc[first_date:second_date].filter(like=bus).filter(like=\"water tanks charger\").filter(like=r).squeeze().fillna(0)\n",
    "        if water_char_store.empty:\n",
    "            water_char_store = pd.Series(index=time).fillna(0)\n",
    "            \n",
    "        # heat to DAC\n",
    "        dac_need = n.links_t.p1.multiply(n.snapshot_weightings.stores,\n",
    "                                         axis=0).loc[first_date:second_date].filter(like=bus).filter(like=\"DAC\").filter(like=r).squeeze().fillna(0)\n",
    "        if dac_need.empty:\n",
    "            dac_need = pd.Series(index=time).fillna(0)\n",
    " \n",
    "\n",
    "        # heat demand\n",
    "        heat_demand = n.loads_t.p_set.multiply(n.snapshot_weightings.generators,\n",
    "                                                   axis=0).loc[first_date:second_date].filter(like=bus).filter(like=r).squeeze().fillna(0)\n",
    "        retrofit = n.generators_t.p.multiply(n.snapshot_weightings.generators,\n",
    "                                             axis=0).loc[first_date:second_date].filter(like=bus).filter(like=\"retrofitting moderate\").filter(like=r).squeeze().fillna(0)\n",
    "        if retrofit.empty:\n",
    "            retrofit = pd.Series(index=time).fillna(0)\n",
    "        total_heat_demand = heat_demand - retrofit\n",
    "        \n",
    "        # technologies\n",
    "        items = [\"ground heat pump\", \"air heat pump\", \"resistive heater\",\n",
    "                 \"gas boiler\", \"biomass boiler\", \"gas CHP\", \"solid biomass CHP\",\n",
    "                 \"Fischer-Tropsch\", \"H2 Fuel Cell\", \"water tanks discharger\", \"solar thermal\"]\n",
    "        # stacked plot for supply\n",
    "        axs[j,i].stackplot(time, ground_heat_gen/1e3, air_heat_gen/1e3, res_heater_gen/1e3, \n",
    "                          gas_boiler_gen/1e3, biomass_boiler_gen/1e3, gas_CHP_gen/1e3, biomass_CHP_gen/1e3, \n",
    "                          fischer_gen/1e3, fuel_cell_gen/1e3, water_dischar_gen/1e3, solar_gen/1e3,\n",
    "                          colors=[c.tech_colors[i] for i in items], zorder = 3)\n",
    "        # stacked plot for demand\n",
    "        axs[j,i].stackplot(time, water_char_store/1e3, dac_need/1e3,\n",
    "                          colors=[c.tech_colors[i] for i in [\"water tanks charger\", \"DAC\"]], zorder = 3)\n",
    "        # heat demand - retrofit\n",
    "        line1, = axs[j,i].plot(time, total_heat_demand/1e3, '--', color='#000000', linewidth=2, label=\"Heat demand\", zorder=10)\n",
    "        \n",
    "        j += 1  # plot next graph\n",
    "        \n",
    "        # configuration of axis\n",
    "        if j<5:\n",
    "            axs[j-1,i].set_xticklabels([])\n",
    "        axs[4,i].set_xticklabels(labels=time.day)\n",
    "        axs[4,i].set_xlabel(\"Jan\")\n",
    "        axs[0,i].set_yticks([0,50,100,150,200]) # limits and ticks for row 1\n",
    "        axs[1,i].set_yticks([0,25,50,75,100]) # limits and ticks for row 2\n",
    "        axs[2,i].set_yticks([0,25,50,75,100]) # limits and ticks for row 3\n",
    "        axs[3,i].set_yticks([-20,0,20,40,60]) # limits and ticks for row 4\n",
    "        axs[4,i].set_yticks([0,100,200]) # limits and ticks for row 1\n",
    "        axs[0,i].set_title(name)\n",
    "        axs[j-1,i].set_facecolor('white')\n",
    "        axs[j-1,i].spines['left'].set_color('black')\n",
    "        axs[j-1,i].spines['bottom'].set_color('black')\n",
    "        axs[j-1,i].grid(axis='y', linestyle='--', linewidth=0.5, color='gray')\n",
    "        \n",
    "        if i==0:\n",
    "            yloc = [0.8, 0.65, 0.49, 0.33, 0.17]\n",
    "            plt.gcf().text(0.92, yloc[j-1], f'{r}', fontsize=10, va='center')\n",
    "         \n",
    "    i += 1\n",
    "\n",
    "handles = []\n",
    "for i in items + [\"water tanks charger\", \"DAC\"]:\n",
    "    current_patch = mpatches.Patch(color=c.tech_colors[i], label=i)\n",
    "    handles.append(current_patch)\n",
    "handles.append(line1)\n",
    "lgd = axs[4,1].legend(handles=handles, loc=\"upper center\", bbox_to_anchor=(0.5, -0.5), ncol=5, facecolor=\"white\")\n",
    "ylabel = axs[2,0].set_ylabel(\"Energy [GWh]\")\n",
    "\n",
    "\n",
    "\n",
    "    \n",
    "\n"
   ]
  },
  {
   "cell_type": "markdown",
   "id": "55139883",
   "metadata": {},
   "source": [
    "# 5. Heat demand saved per country (Fig. 8)"
   ]
  },
  {
   "cell_type": "code",
   "execution_count": null,
   "id": "42a170f7",
   "metadata": {},
   "outputs": [],
   "source": []
  },
  {
   "cell_type": "code",
   "execution_count": null,
   "id": "38c2e58a",
   "metadata": {},
   "outputs": [],
   "source": []
  },
  {
   "cell_type": "markdown",
   "id": "99512305",
   "metadata": {},
   "source": [
    "# 6. Marginal prices for electricity (Fig. 9)"
   ]
  },
  {
   "cell_type": "markdown",
   "id": "97efa056",
   "metadata": {},
   "source": [
    "## 6A. Plot"
   ]
  },
  {
   "cell_type": "code",
   "execution_count": null,
   "id": "934e9cda",
   "metadata": {},
   "outputs": [],
   "source": [
    "network_two = {\"rigid\":n_rigid, \"flexible\":n_flex}\n",
    "all_prices = pd.DataFrame()\n",
    "all_annual_cost = pd.DataFrame()\n",
    "\n",
    "fig, axs = plt.subplots(2, 1, figsize=(12, 7))\n",
    "plt.subplots_adjust(wspace=0.4, hspace=0.4)\n",
    "\n",
    "# Plot prices per country\n",
    "for name, n in network_two.items():\n",
    "#     prices = n.buses_t.marginal_price.groupby(n.buses.country,axis=1).mean().mean().iloc[1:].sort_values()\n",
    "    prices = n.loads_t.p_set.mul(n.buses_t.marginal_price).sum().groupby(n.buses.country).sum().div(n.loads_t.p_set.groupby(n.buses.country, axis=1).sum().sum()).iloc[1:].sort_values()\n",
    "    prices.name = name\n",
    "    all_prices = pd.concat([all_prices, prices], axis=1)\n",
    "\n",
    "all_prices.plot.bar(ax=axs[0], width=0.6) # plotting bar chart\n",
    "\n",
    "axs[0].set_yticks([0,20,40,60,80])\n",
    "axs[0].set_ylim([0, 90])\n",
    "axs[0].legend(loc=\"upper left\", facecolor=\"white\")\n",
    "ylabel = axs[0].set_ylabel(\"EUR/MWh\")\n",
    "xlabel = axs[0].set_xlabel(\"countries\")\n",
    "axs[0].set_title(\"Electricity price per country\")\n",
    "axs[0].set_facecolor('white')\n",
    "axs[0].spines['left'].set_color('black')\n",
    "axs[0].spines['bottom'].set_color('black')\n",
    "axs[0].grid(axis='y', linestyle='--', linewidth=0.5, color='gray')\n",
    "\n",
    "# Plot prices during year\n",
    "for name, n in network_two.items():\n",
    "    annual_cost = n.buses_t.marginal_price.mean(axis=1)\n",
    "    annual_cost.name = name\n",
    "    all_annual_cost = pd.concat([all_annual_cost, annual_cost], axis=1)\n",
    "    \n",
    "A = all_annual_cost.plot(ax=axs[1]) # plotting annual cost variation\n",
    "\n",
    "axs[1].set_facecolor('white')\n",
    "axs[1].spines['left'].set_color('black')\n",
    "axs[1].spines['bottom'].set_color('black')\n",
    "axs[1].grid(axis='y', linestyle='--', linewidth=0.5, color='gray')\n",
    "yticks = axs[1].set_yticks([0,200,400,650])\n",
    "axs[1].set_ylim([0, 700])\n",
    "lgd = axs[1].legend(loc=\"upper right\", facecolor=\"white\")\n",
    "date_rng = pd.date_range(start='2013-01-01', periods=13, freq='MS')\n",
    "axs[1].set_xticks(date_rng)\n",
    "a = axs[1].set_xticklabels(labels=date_rng.strftime('%B'))\n",
    "ylabel = axs[1].set_ylabel(\"EUR/MWh (avg of countries)\")\n",
    "axs[1].set_title(\"Electricity price during year\")"
   ]
  },
  {
   "cell_type": "code",
   "execution_count": null,
   "id": "f052032c",
   "metadata": {
    "scrolled": true
   },
   "outputs": [],
   "source": [
    "n.loads_t.p_set.mul(n.buses_t.marginal_price).sum().groupby(n.buses.country).sum().div(n.loads_t.p_set.groupby(n.buses.country, axis=1).sum().sum())"
   ]
  },
  {
   "cell_type": "code",
   "execution_count": null,
   "id": "540f0ee6",
   "metadata": {},
   "outputs": [],
   "source": [
    "n.loads_t.p_set.groupby(n.buses.country, axis=1).sum().sum()"
   ]
  },
  {
   "cell_type": "code",
   "execution_count": null,
   "id": "14a0f936",
   "metadata": {},
   "outputs": [],
   "source": [
    "n.loads_t.p_set.mul(n.buses_t.marginal_price).sum().groupby(n.buses.country).sum().div(n.loads_t.groupby(n.buses.country).sum())"
   ]
  },
  {
   "cell_type": "markdown",
   "id": "a3972b22",
   "metadata": {},
   "source": [
    "# SANDBOX"
   ]
  },
  {
   "cell_type": "code",
   "execution_count": null,
   "id": "d64dbb44",
   "metadata": {},
   "outputs": [],
   "source": [
    "time.day"
   ]
  },
  {
   "cell_type": "code",
   "execution_count": null,
   "id": "167cde0e",
   "metadata": {},
   "outputs": [],
   "source": [
    "n.loads_t.p.filter(like=bus).filter(like=\"heat\").iloc[:,[0,4]].loc[first_date:second_date].sum(axis=1)"
   ]
  },
  {
   "cell_type": "code",
   "execution_count": null,
   "id": "92e90282",
   "metadata": {},
   "outputs": [],
   "source": [
    "n.links_t.p1.filter(like=bus).loc[first_date:second_date].filter(like=\"services\")"
   ]
  },
  {
   "cell_type": "code",
   "execution_count": null,
   "id": "f714c1ef",
   "metadata": {},
   "outputs": [],
   "source": [
    "(n.loads_t.p.filter(like=bus).filter(like=r).loc[first_date:second_date]*24).plot(ylim=[0, 75000])"
   ]
  },
  {
   "cell_type": "code",
   "execution_count": null,
   "id": "bee8480f",
   "metadata": {},
   "outputs": [],
   "source": [
    "a-b"
   ]
  },
  {
   "cell_type": "code",
   "execution_count": null,
   "id": "7a88e5c5",
   "metadata": {},
   "outputs": [],
   "source": [
    "heat_demand"
   ]
  },
  {
   "cell_type": "code",
   "execution_count": null,
   "id": "799b1c17",
   "metadata": {},
   "outputs": [],
   "source": [
    "n.generators_t.p.filter(like=bus).filter(like=\"retrofitting\").loc[first_date:second_date]*24"
   ]
  },
  {
   "cell_type": "code",
   "execution_count": null,
   "id": "c01777fe",
   "metadata": {},
   "outputs": [],
   "source": [
    "(ground_heat_gen + res_heater_gen + gas_boiler_gen)*3"
   ]
  },
  {
   "cell_type": "code",
   "execution_count": null,
   "id": "c61faf0c",
   "metadata": {},
   "outputs": [],
   "source": [
    "heat_demand"
   ]
  },
  {
   "cell_type": "code",
   "execution_count": null,
   "id": "aa745601",
   "metadata": {},
   "outputs": [],
   "source": [
    "pd.Series(index=time).fillna(0)"
   ]
  },
  {
   "cell_type": "code",
   "execution_count": null,
   "id": "cfbe76ae",
   "metadata": {},
   "outputs": [],
   "source": [
    "air_heat_gen"
   ]
  },
  {
   "cell_type": "code",
   "execution_count": null,
   "id": "510c20ea",
   "metadata": {},
   "outputs": [],
   "source": [
    "ground_heat_gen.index"
   ]
  },
  {
   "cell_type": "code",
   "execution_count": null,
   "id": "44e076f4",
   "metadata": {},
   "outputs": [],
   "source": [
    "plt.stackplot(ground_heat_gen.index, ground_heat_gen.values, #air_heat_gen, res_heater_gen, \n",
    "                          #gas_boiler_gen, biomass_boiler_gen, #gas_CHP_gen, biomass_CHP_gen, \n",
    "                          #fischer_gen, fuel_cell_gen, water_dischar_gen, solar_gen,\n",
    "                          colors=[c.tech_colors[i] for i in items[:1]], zorder = 3)"
   ]
  },
  {
   "cell_type": "code",
   "execution_count": null,
   "id": "84b7e4e5",
   "metadata": {},
   "outputs": [],
   "source": [
    "n.statistics()"
   ]
  },
  {
   "cell_type": "code",
   "execution_count": null,
   "id": "863b7f8c",
   "metadata": {},
   "outputs": [],
   "source": [
    "n.loads.filter(like=\"heat\", axis=0)"
   ]
  },
  {
   "cell_type": "code",
   "execution_count": null,
   "id": "83d00323",
   "metadata": {},
   "outputs": [],
   "source": [
    "n.links_t.p1.filter(like=\"boiler\").filter(like=\"FR\")"
   ]
  },
  {
   "cell_type": "code",
   "execution_count": null,
   "id": "78f0de40",
   "metadata": {},
   "outputs": [],
   "source": [
    "n.links.query(\"carrier in 'residential rural biomass boiler'\")"
   ]
  },
  {
   "cell_type": "code",
   "execution_count": null,
   "id": "4faf20a2",
   "metadata": {},
   "outputs": [],
   "source": [
    "# Calculation of installed capacities and generation\n",
    "for name, n in network.items():\n",
    "    print(\"Case: \", name)\n",
    "    for r in techs:\n",
    "        solar_thermal_gen = n.generators_t.p.loc[first_date:second_date].groupby\n",
    "        gen = pd.DataFrame()\n",
    "        print(r, techs[r])\n",
    "        for i in techs[r]:\n",
    "            gens_cap = n.generators.filter(like=i, axis=0).p_nom_opt\n",
    "            links_cap = n.links.filter(like=i, axis=0).p_nom_opt"
   ]
  },
  {
   "cell_type": "code",
   "execution_count": null,
   "id": "6498169d",
   "metadata": {},
   "outputs": [],
   "source": [
    "techs"
   ]
  },
  {
   "cell_type": "code",
   "execution_count": null,
   "id": "8a33d89a",
   "metadata": {},
   "outputs": [],
   "source": [
    "idx = n.buses.query(\"location in 'FR1 0'\").index"
   ]
  },
  {
   "cell_type": "code",
   "execution_count": null,
   "id": "eae008d5",
   "metadata": {},
   "outputs": [],
   "source": [
    "n.generators_t.p.filter(like=\"FR1 0\").sum()"
   ]
  },
  {
   "cell_type": "code",
   "execution_count": null,
   "id": "3dccc44d",
   "metadata": {},
   "outputs": [],
   "source": [
    "n.generators_t.p[\"FR1 0 residential rural solar thermal collector\"]"
   ]
  },
  {
   "cell_type": "code",
   "execution_count": null,
   "id": "fd2a194e",
   "metadata": {},
   "outputs": [],
   "source": [
    "bus_name = \"FR1 0\"\n",
    "n.buses.filter(like=\"FR\", axis=0)"
   ]
  },
  {
   "cell_type": "code",
   "execution_count": null,
   "id": "ae0be0b5",
   "metadata": {},
   "outputs": [],
   "source": [
    "labels1[2:3] + labels2 + labels1[-1:]"
   ]
  },
  {
   "cell_type": "code",
   "execution_count": null,
   "id": "1fa2430c",
   "metadata": {},
   "outputs": [],
   "source": [
    "cf[::-1]"
   ]
  },
  {
   "cell_type": "code",
   "execution_count": null,
   "id": "46912ad4",
   "metadata": {},
   "outputs": [],
   "source": [
    "n.links.query(\"carrier in 'residential rural ground heat pump'\")"
   ]
  },
  {
   "cell_type": "code",
   "execution_count": null,
   "id": "4a889361",
   "metadata": {},
   "outputs": [],
   "source": [
    "new_index"
   ]
  },
  {
   "cell_type": "code",
   "execution_count": null,
   "id": "767b0ec6",
   "metadata": {},
   "outputs": [],
   "source": [
    "cur_techs"
   ]
  },
  {
   "cell_type": "code",
   "execution_count": null,
   "id": "cd8ae723",
   "metadata": {
    "scrolled": true
   },
   "outputs": [],
   "source": [
    "cap_full"
   ]
  },
  {
   "cell_type": "code",
   "execution_count": null,
   "id": "942e8156",
   "metadata": {},
   "outputs": [],
   "source": [
    "df = cap_full\n",
    "df = df.groupby(df.index.map(rename_techs)).sum()\n",
    "logger.info(f\"Total installed capacity of {df.sum().astype(int).values} MW\")\n",
    "\n",
    "new_index = preferred_order.intersection(df.index).append(\n",
    "    df.index.difference(preferred_order)\n",
    ")\n",
    "\n",
    "fig, ax = plt.subplots(figsize=(6, 8))\n",
    "\n",
    "df.loc[new_index].T.plot(\n",
    "    kind=\"bar\",\n",
    "    ax=ax,\n",
    "    stacked=True,\n",
    "    color=[c.tech_colors[i] for i in new_index],\n",
    ")\n",
    "\n"
   ]
  },
  {
   "cell_type": "code",
   "execution_count": null,
   "id": "8b5d33aa",
   "metadata": {},
   "outputs": [],
   "source": [
    "df.sum()"
   ]
  },
  {
   "cell_type": "code",
   "execution_count": null,
   "id": "b6aed853",
   "metadata": {},
   "outputs": [],
   "source": [
    "df = df.groupby(df.index.map(rename_techs)).sum()\n",
    "\n",
    "    costs_threshold = 1\n",
    "    to_drop = df.index[df.max(axis=1) < costs_threshold]  #df <\n",
    "\n",
    "    logger.info(\n",
    "        f\"Dropping technology with costs below {costs_threshold} EUR billion per year\"\n",
    "    )\n",
    "    logger.debug(df.loc[to_drop])\n",
    "\n",
    "    df = df.drop(to_drop)\n",
    "\n",
    "    logger.info(f\"Total system cost of {round(df.sum())} EUR billion per year\")\n",
    "\n",
    "    new_index = preferred_order.intersection(df.index).append(\n",
    "        df.index.difference(preferred_order)\n",
    "    )\n",
    "\n",
    "    new_columns = df.sum().sort_values().index  \n",
    "\n",
    "\n",
    "    fig, ax = plt.subplots(figsize=(6, 8))\n",
    "\n",
    "    df.loc[new_index].T.plot(\n",
    "        kind=\"bar\",\n",
    "        ax=ax,\n",
    "        stacked=True,\n",
    "        color=[c.tech_colors[i] for i in new_index],\n",
    "    )\n",
    "\n",
    "    handles, labels = ax.get_legend_handles_labels()\n",
    "\n",
    "    handles.reverse()\n",
    "    labels.reverse()\n",
    "\n",
    "    costs_max = 1000\n",
    "    ax.set_ylim([0, costs_max])\n",
    "    plt.xticks(rotation=0, fontsize=12)\n",
    "\n",
    "    ax.set_ylabel(\"System Cost [EUR billion per year]\")\n",
    "\n",
    "    ax.set_xlabel(\"\")\n",
    "\n",
    "    ax.grid(axis=\"x\")\n",
    "\n",
    "    ax.legend(\n",
    "        handles, labels, ncol=1, loc=\"upper left\", bbox_to_anchor=[1, 1], frameon=False\n",
    "    )"
   ]
  },
  {
   "cell_type": "code",
   "execution_count": null,
   "id": "9fab45b2",
   "metadata": {},
   "outputs": [],
   "source": []
  },
  {
   "cell_type": "code",
   "execution_count": null,
   "id": "4e416e6d",
   "metadata": {},
   "outputs": [],
   "source": []
  },
  {
   "cell_type": "code",
   "execution_count": null,
   "id": "6304e339",
   "metadata": {},
   "outputs": [],
   "source": [
    "n.links.filter(like=\"water tanks discharger\", axis=0)[['bus0', 'bus1', 'carrier','p_nom','p_min_pu', 'p_nom_opt', 'capital_cost', 'efficiency', 'marginal_cost', 'bus2', 'efficiency2', 'bus3',\n",
    "       'efficiency3', 'bus4', 'efficiency4','p_set', 'p_max_pu']]"
   ]
  },
  {
   "cell_type": "code",
   "execution_count": null,
   "id": "99edd8be",
   "metadata": {},
   "outputs": [],
   "source": [
    "n_rigid.generators.filter(like=\"solar thermal\", axis=0)"
   ]
  },
  {
   "cell_type": "code",
   "execution_count": null,
   "id": "1cd5aaab",
   "metadata": {},
   "outputs": [],
   "source": [
    "n_rigid.generators_t.p.filter(like=\"heater\")"
   ]
  },
  {
   "cell_type": "code",
   "execution_count": null,
   "id": "e090d37a",
   "metadata": {},
   "outputs": [],
   "source": [
    "n.loads.filter(like=\"heater\", axis=0)"
   ]
  },
  {
   "cell_type": "code",
   "execution_count": null,
   "id": "1d9e52b4",
   "metadata": {},
   "outputs": [],
   "source": [
    "n_rigid.links.filter(like=\"heater\", axis=0)"
   ]
  },
  {
   "cell_type": "code",
   "execution_count": null,
   "id": "c9fd852c",
   "metadata": {},
   "outputs": [],
   "source": [
    "solar_thermal_tech = ['residential rural solar thermal', 'services rural solar thermal',\n",
    "                       'residential urban decentral solar thermal',\n",
    "                       'services urban decentral solar thermal',\n",
    "                       'urban central solar thermal']"
   ]
  },
  {
   "cell_type": "code",
   "execution_count": null,
   "id": "9098d1d4",
   "metadata": {},
   "outputs": [],
   "source": [
    "thermal_rigid_idx = n_rigid.generators.query(\"carrier in @solar_thermal_tech\").index\n",
    "thermal_flex_idx = n_flex.generators.query(\"carrier in @solar_thermal_tech\").index"
   ]
  },
  {
   "cell_type": "code",
   "execution_count": null,
   "id": "b57bb073",
   "metadata": {},
   "outputs": [],
   "source": [
    "gen_solTherm_rigid = n_rigid.generators_t.p[thermal_idx].sum().sum()"
   ]
  },
  {
   "cell_type": "code",
   "execution_count": null,
   "id": "cd65e029",
   "metadata": {},
   "outputs": [],
   "source": [
    "rural = [\"urban central heat\"]\n",
    "need = n_flex.buses.query(\"carrier in @rural\").index"
   ]
  },
  {
   "cell_type": "code",
   "execution_count": null,
   "id": "6c1ad271",
   "metadata": {},
   "outputs": [],
   "source": [
    "\n",
    "n_flex.links.query(\"bus0 in @need or bus1 in @need or bus2 in @need or bus3 in @need\")[['bus0', 'bus1', 'carrier','p_nom','p_min_pu', 'capital_cost', 'efficiency', 'marginal_cost', 'bus2', 'efficiency2', 'bus3',\n",
    "       'efficiency3', 'bus4', 'efficiency4','p_set', 'p_max_pu']].carrier.unique()"
   ]
  },
  {
   "cell_type": "code",
   "execution_count": null,
   "id": "b6a82f50",
   "metadata": {},
   "outputs": [],
   "source": [
    "n_flex.generators.query(\"bus in @need\")[['bus', 'carrier','p_nom','p_min_pu', 'capital_cost', 'efficiency', 'marginal_cost','p_max_pu']].carrier.unique()"
   ]
  },
  {
   "cell_type": "code",
   "execution_count": null,
   "id": "1cd02346",
   "metadata": {},
   "outputs": [],
   "source": [
    "n_rigid.generators.carrier.unique()"
   ]
  },
  {
   "cell_type": "code",
   "execution_count": null,
   "id": "dc729561",
   "metadata": {},
   "outputs": [],
   "source": [
    "n_rigid.links.query(\"carrier in 'urban central solid biomass CHP'\")[['bus0', 'bus1', 'carrier','p_nom','p_min_pu', 'p_nom_opt', 'capital_cost', 'efficiency', 'marginal_cost', 'bus2', 'efficiency2', 'bus3',\n",
    "       'efficiency3', 'bus4', 'efficiency4','p_set', 'p_max_pu']]"
   ]
  },
  {
   "cell_type": "code",
   "execution_count": null,
   "id": "c20603d1",
   "metadata": {
    "scrolled": true
   },
   "outputs": [],
   "source": [
    "cap_rigid = n_rigid.statistics()[[\"Installed Capacity\"]].dropna().droplevel(0).rename(columns={\"Installed Capacity\": \"rigid\"})\n",
    "cap_flex = n_flex.statistics()[[\"Installed Capacity\"]].dropna().droplevel(0).rename(columns={\"Installed Capacity\": \"flexible\"})\n",
    "cap_full = cap_rigid.join(cap_flex).fillna(0)\n",
    "cap_full"
   ]
  },
  {
   "cell_type": "code",
   "execution_count": null,
   "id": "c09fad4d",
   "metadata": {},
   "outputs": [],
   "source": [
    "cap_full.index"
   ]
  },
  {
   "cell_type": "code",
   "execution_count": null,
   "id": "b8e56a21",
   "metadata": {},
   "outputs": [],
   "source": [
    "[x for x in cap_full.index if \"rural\" in x]"
   ]
  },
  {
   "cell_type": "code",
   "execution_count": null,
   "id": "a7493b56",
   "metadata": {},
   "outputs": [],
   "source": [
    "zones = [\"rural\", \"urban individual\", \"district heating\"]"
   ]
  },
  {
   "cell_type": "code",
   "execution_count": null,
   "id": "722c87bd",
   "metadata": {},
   "outputs": [],
   "source": [
    "n_flex.statistics()[[\"Installed Capacity\", \"Supply\"]].index"
   ]
  },
  {
   "cell_type": "code",
   "execution_count": null,
   "id": "af6cac00",
   "metadata": {},
   "outputs": [],
   "source": [
    "cost_df"
   ]
  },
  {
   "cell_type": "code",
   "execution_count": null,
   "id": "97b086fc",
   "metadata": {},
   "outputs": [],
   "source": [
    "n_flex.statistics()[[\"Capital Expenditure\", \"Operational Expenditure\"]].sum()"
   ]
  },
  {
   "cell_type": "code",
   "execution_count": null,
   "id": "cde2733c",
   "metadata": {},
   "outputs": [],
   "source": [
    "n_rigid.statistics()[\"Capital Expenditure\"].sum()"
   ]
  },
  {
   "cell_type": "code",
   "execution_count": null,
   "id": "4abe6e16",
   "metadata": {},
   "outputs": [],
   "source": [
    "# Make x and y of buses to match actual location, not 0, 0\n",
    "\n",
    "# base_buses = n.buses.query(\"x!=0 or y!=0\")\n",
    "# zero_buses = n.buses.query(\"x==0 and y==0\").index\n",
    "# for z in zero_buses:\n",
    "#     loc = n.buses.loc[z, \"location\"]\n",
    "#     if loc in base_buses.index:\n",
    "#         n.buses.loc[z, [\"x\",\"y\"]] = base_buses.loc[loc==base_buses.index, [\"x\",\"y\"]].values\n",
    "#     else:\n",
    "#         n.buses.loc[z, [\"x\",\"y\"]] = base_buses.loc[:,[\"x\",\"y\"]].mean().values\n",
    "\n",
    "# fig = n.plot()\n"
   ]
  },
  {
   "cell_type": "code",
   "execution_count": null,
   "id": "31599231",
   "metadata": {},
   "outputs": [],
   "source": [
    "new_columns"
   ]
  },
  {
   "cell_type": "code",
   "execution_count": null,
   "id": "1481daf7",
   "metadata": {},
   "outputs": [],
   "source": [
    "new_index"
   ]
  },
  {
   "cell_type": "code",
   "execution_count": null,
   "id": "da9febfa",
   "metadata": {},
   "outputs": [],
   "source": [
    "df.index.map(rename_techs)"
   ]
  },
  {
   "cell_type": "code",
   "execution_count": null,
   "id": "4d4f9b9e",
   "metadata": {},
   "outputs": [],
   "source": [
    "to_drop"
   ]
  },
  {
   "cell_type": "code",
   "execution_count": null,
   "id": "d4e7ad6e",
   "metadata": {},
   "outputs": [],
   "source": [
    "n.objective - n.objective_constant"
   ]
  },
  {
   "cell_type": "code",
   "execution_count": null,
   "id": "6bec5af8",
   "metadata": {},
   "outputs": [],
   "source": [
    "(n.generators.capital_cost * n.generators.p_nom_opt).sum()"
   ]
  },
  {
   "cell_type": "code",
   "execution_count": null,
   "id": "254fd1d3",
   "metadata": {},
   "outputs": [],
   "source": [
    "(n.generators_t.p.sum() * n.generators.marginal_cost).sum() / 1e9"
   ]
  },
  {
   "cell_type": "code",
   "execution_count": null,
   "id": "91526b5c",
   "metadata": {},
   "outputs": [],
   "source": [
    "(n.generators_t.p * n.generators.marginal_cost).sum() "
   ]
  },
  {
   "cell_type": "code",
   "execution_count": null,
   "id": "45f2c85f",
   "metadata": {},
   "outputs": [],
   "source": [
    "n.generators_t.p"
   ]
  },
  {
   "cell_type": "code",
   "execution_count": null,
   "id": "ded72f82",
   "metadata": {},
   "outputs": [],
   "source": [
    "(n.storage_units.p_nom_opt * n.storage_units.capital_cost).sum() /1e9"
   ]
  },
  {
   "cell_type": "code",
   "execution_count": null,
   "id": "c055688b",
   "metadata": {},
   "outputs": [],
   "source": [
    "n.generators.marginal_cost"
   ]
  },
  {
   "cell_type": "code",
   "execution_count": null,
   "id": "781fc9ca",
   "metadata": {},
   "outputs": [],
   "source": [
    "((n.stores.e_nom_opt - n.stores.e_nom) * n.stores.capital_cost).sum() / 1e9"
   ]
  },
  {
   "cell_type": "code",
   "execution_count": null,
   "id": "4e7f1488",
   "metadata": {},
   "outputs": [],
   "source": [
    "from matplotlib.pyplot import *\n",
    "ds = [1,2,3]\n",
    "dc = [1.1, 1.9, 3.2]\n",
    "asim = [1.5, 2.2, 3.1]\n",
    "ac = [1.6, 2.15, 3.1]\n",
    "\n",
    "categories = ['simulated', 'calculated']\n",
    "\n",
    "p1, = plot(ds, 'ko', label='D simulated')\n",
    "p2, = plot(dc, 'k:', label='D calculated')\n",
    "p3, = plot(asim, 'b+', label='A simulated')\n",
    "p4, = plot(ac, 'b-', label='A calculated')\n",
    "p5, = plot([0], marker='None',\n",
    "           linestyle='None', label='dummy-tophead')\n",
    "p7, = plot([0],  marker='None',\n",
    "           linestyle='None', label='dummy-empty')\n",
    "\n",
    "leg3 = legend([p5, p1, p2, p5, p3, p4],\n",
    "              [r'$D_{etc}$'] + categories + [r'$A_{etc}$'] + categories,\n",
    "              loc=2, ncol=1) # Two columns, vertical group labels\n",
    "\n",
    "# leg4 = legend([p5, p7, p5, p7, p1, p2, p3, p4],\n",
    "#               [r'$D_{etc}$', '', r'$A_{etc}$', ''] + categories + categories,\n",
    "#               loc=4, ncol=2) # Two columns, horizontal group labels\n",
    "\n",
    "#gca().add_artist(leg3)\n",
    "\n",
    "#If there isn't a big empty spot on the plot, two legends:\n",
    "#leg1 = legend([p1, p2], categories, title='D_etc', loc=0)\n",
    "#leg2 = legend([p3, p4], categories, title='A_etc', loc=4)\n",
    "#gca().add_artist(leg2) \n",
    "\n",
    "show()"
   ]
  },
  {
   "cell_type": "code",
   "execution_count": null,
   "id": "c5e4ca05",
   "metadata": {},
   "outputs": [],
   "source": [
    "heat_load = [\n",
    "    'residential rural heat', 'services rural heat',\n",
    "    'residential urban decentral heat',\n",
    "    'services urban decentral heat', 'urban central heat'\n",
    "]\n",
    "\n",
    "hi = list(\n",
    "    set(n_rigid.loads.query(\"carrier in @heat_load\").index)-\n",
    "    set(['IT3 0 residential urban decentral heat', 'IT3 0 services urban decentral heat', 'IT3 0 urban central heat'])\n",
    ")\n",
    "\n",
    "n_rigid.loads_t.p_set[hi].multiply(n_rigid.snapshot_weightings.stores,axis=0).sum().sum()/1e6"
   ]
  },
  {
   "cell_type": "code",
   "execution_count": null,
   "id": "0ae498cd",
   "metadata": {},
   "outputs": [],
   "source": [
    "n_rigid.loads_t.p_set.filter(like=\"heat\").multiply(n_rigid.snapshot_weightings.stores,axis=0).sum().sum() /1e6"
   ]
  },
  {
   "cell_type": "code",
   "execution_count": null,
   "id": "fb027435",
   "metadata": {},
   "outputs": [],
   "source": [
    "n_flex.loads_t.p_set.filter(like=\"heat\").multiply(n_rigid.snapshot_weightings.stores,axis=0).sum().sum() /1e6"
   ]
  },
  {
   "cell_type": "code",
   "execution_count": null,
   "id": "c7c15b37",
   "metadata": {},
   "outputs": [],
   "source": [
    "n_rigid.snapshot_weightings"
   ]
  },
  {
   "cell_type": "code",
   "execution_count": null,
   "id": "d14de213",
   "metadata": {},
   "outputs": [],
   "source": [
    "n_rigid.links_t.p0.filter(like=\"industry\")"
   ]
  },
  {
   "cell_type": "code",
   "execution_count": null,
   "id": "ef3c79a1",
   "metadata": {},
   "outputs": [],
   "source": [
    "n"
   ]
  },
  {
   "cell_type": "code",
   "execution_count": null,
   "id": "bc6c40e4",
   "metadata": {},
   "outputs": [],
   "source": [
    "n.buses.filter(like=\"industry\", axis=0)"
   ]
  },
  {
   "cell_type": "code",
   "execution_count": null,
   "id": "5f92ef97",
   "metadata": {},
   "outputs": [],
   "source": [
    "n.buses.carrier.unique()"
   ]
  },
  {
   "cell_type": "code",
   "execution_count": null,
   "id": "936e32df",
   "metadata": {},
   "outputs": [],
   "source": [
    "n.links.filter(like=\"industry\", axis=0).carrier.unique()"
   ]
  },
  {
   "cell_type": "code",
   "execution_count": null,
   "id": "4b0aae6a",
   "metadata": {},
   "outputs": [],
   "source": [
    "n.generators_t"
   ]
  },
  {
   "cell_type": "code",
   "execution_count": null,
   "id": "39075d78",
   "metadata": {},
   "outputs": [],
   "source": [
    "(\n",
    "    n.buses_t.marginal_price\n",
    "    .groupby(n.buses.country,axis=1).mean().mean()\n",
    ").iloc[1:].sort_values().plot.bar() "
   ]
  },
  {
   "cell_type": "code",
   "execution_count": null,
   "id": "0f53e89c",
   "metadata": {},
   "outputs": [],
   "source": [
    "n.buses_t.marginal_price.mean(axis=1).plot()"
   ]
  },
  {
   "cell_type": "code",
   "execution_count": null,
   "id": "c7d019c5",
   "metadata": {},
   "outputs": [],
   "source": [
    "n.loads_t.p_set.groupby(same thing) and then divide by n.loads_t.p_set.sum().sum()"
   ]
  },
  {
   "cell_type": "code",
   "execution_count": null,
   "id": "2706e7ae",
   "metadata": {},
   "outputs": [],
   "source": [
    "n.loads_t.p_set.mul(n.buses_t.marginal_price).sum().groupby(n.buses.country).sum().div(n.loads_t.groupby(n.buses.country).sum())"
   ]
  },
  {
   "cell_type": "code",
   "execution_count": null,
   "id": "703c5c27",
   "metadata": {},
   "outputs": [],
   "source": [
    "n.buses_t.keys()"
   ]
  },
  {
   "cell_type": "code",
   "execution_count": null,
   "id": "030a15ed",
   "metadata": {},
   "outputs": [],
   "source": []
  }
 ],
 "metadata": {
  "kernelspec": {
   "display_name": "Python 3 (ipykernel)",
   "language": "python",
   "name": "python3"
  },
  "language_info": {
   "codemirror_mode": {
    "name": "ipython",
    "version": 3
   },
   "file_extension": ".py",
   "mimetype": "text/x-python",
   "name": "python",
   "nbconvert_exporter": "python",
   "pygments_lexer": "ipython3",
   "version": "3.10.12"
  }
 },
 "nbformat": 4,
 "nbformat_minor": 5
}
