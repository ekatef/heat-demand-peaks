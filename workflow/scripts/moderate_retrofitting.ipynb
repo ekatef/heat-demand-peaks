{
 "cells": [
  {
   "cell_type": "markdown",
   "id": "abe764d7-0ac0-44f5-a374-bba99149f3ea",
   "metadata": {},
   "source": [
    "# 0. Import libraties"
   ]
  },
  {
   "cell_type": "code",
   "execution_count": null,
   "id": "33ddfbac-d738-4876-bbef-1a035b8a410c",
   "metadata": {},
   "outputs": [],
   "source": [
    "import os\n",
    "import sys\n",
    "sys.path.append(\"../pypsa-eur\")\n",
    "import pypsa\n",
    "import pandas as pd\n",
    "import logging\n",
    "import warnings\n",
    "warnings.filterwarnings(\"ignore\")\n",
    "logger = logging.getLogger(__name__)\n",
    "\n",
    "# get the current working directory\n",
    "base_path = os.path.abspath(os.path.join(os.getcwd() ,\"..\"))\n",
    "# path to pypsa-eur\n",
    "pypsa_path = \"pypsa-eur/\"\n",
    "# absolute path to pypsa-eur\n",
    "\n",
    "new_path = os.path.join(base_path, pypsa_path)\n",
    "# change path to pypsa-eur\n",
    "os.chdir(new_path)"
   ]
  },
  {
   "cell_type": "markdown",
   "id": "4591da51-3687-48ea-8003-f1e73e6df959",
   "metadata": {},
   "source": [
    "# 1. Import network"
   ]
  },
  {
   "cell_type": "code",
   "execution_count": null,
   "id": "556784e1-1dfe-4361-9b60-93ca81e5571b",
   "metadata": {},
   "outputs": [],
   "source": [
    "FILE = \"elec_s_48_lvopt__Co2L0-1H-T-H-B_2030.nc\"\n",
    "#FILE = \"chpCC_elec_s_48_lcopt__Co2L0-2H-T-H-B_2030.nc\"\n",
    "DIR = \"results/flexible/prenetworks\"\n",
    "n = pypsa.Network(os.path.join(DIR, FILE))"
   ]
  },
  {
   "cell_type": "markdown",
   "id": "5e95430e-bf33-4372-babd-55fc3c111f89",
   "metadata": {},
   "source": [
    "# 2. Set moderate retrofitting"
   ]
  },
  {
   "cell_type": "code",
   "execution_count": null,
   "id": "5227703b-3a92-472a-b380-d0cd11f920c2",
   "metadata": {},
   "outputs": [],
   "source": [
    "# import data for moderate retrofitting\n",
    "filename = \"../data/flexible_retro_half.csv\"\n",
    "retro_data = pd.read_csv(os.path.join(os.getcwd(), filename), index_col=0)"
   ]
  },
  {
   "cell_type": "code",
   "execution_count": null,
   "id": "ad371ce2-969c-4989-be01-c8a4c021c309",
   "metadata": {},
   "outputs": [],
   "source": [
    "# set p_nom as half of p_nom_opt of flexible scenario\n",
    "n.generators.loc[retro_data.index, \"p_nom\"] = retro_data[\"p_nom_opt\"]\n",
    "# set retrofitting not extendable\n",
    "n.generators.loc[retro_data.index, \"p_nom_extendable\"] = False"
   ]
  },
  {
   "cell_type": "code",
   "execution_count": null,
   "id": "6a81c9f6-c871-4042-8303-56c8e286a16c",
   "metadata": {},
   "outputs": [],
   "source": [
    "# save changed network\n",
    "output_filename = \"results/flexible-moderate/prenetworks/\" + FILE\n",
    "n.export_to_netcdf(output_filename)"
   ]
  },
  {
   "cell_type": "code",
   "execution_count": null,
   "id": "b2097e12-f2ab-4bd5-a02d-0b08bebe0bb0",
   "metadata": {},
   "outputs": [],
   "source": []
  }
 ],
 "metadata": {
  "kernelspec": {
   "display_name": "Python 3 (ipykernel)",
   "language": "python",
   "name": "python3"
  },
  "language_info": {
   "codemirror_mode": {
    "name": "ipython",
    "version": 3
   },
   "file_extension": ".py",
   "mimetype": "text/x-python",
   "name": "python",
   "nbconvert_exporter": "python",
   "pygments_lexer": "ipython3",
   "version": "3.10.13"
  }
 },
 "nbformat": 4,
 "nbformat_minor": 5
}
